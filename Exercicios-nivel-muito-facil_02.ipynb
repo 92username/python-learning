{
 "cells": [
  {
   "cell_type": "markdown",
   "metadata": {},
   "source": [
    "Aqui estão cinco exercícios muito fáceis para você praticar e se familiarizar com dicionários em Python:"
   ]
  },
  {
   "cell_type": "markdown",
   "metadata": {},
   "source": [
    "Exercício 1: Criando um dicionário simples\n",
    "\n",
    "Crie um dicionário chamado frutas que armazene as seguintes informações:\n",
    "\n",
    "    A chave \"maçã\" deve ter o valor \"vermelha\".\n",
    "    A chave \"banana\" deve ter o valor \"amarela\".\n",
    "    A chave \"uva\" deve ter o valor \"roxa\".\n",
    "\n",
    "Imprima o dicionário na tela."
   ]
  },
  {
   "cell_type": "code",
   "execution_count": 1,
   "metadata": {},
   "outputs": [
    {
     "name": "stdout",
     "output_type": "stream",
     "text": [
      "{'maçã': 'vermelha', 'banana': 'amarela', 'uva': 'roxa'}\n"
     ]
    }
   ],
   "source": [
    "frutas = {'maçã': 'vermelha', 'banana': 'amarela', 'uva':'roxa' }\n",
    "print(frutas)"
   ]
  },
  {
   "cell_type": "markdown",
   "metadata": {},
   "source": [
    "Acessando valores do dicionário\n",
    "\n",
    "Usando o dicionário criado no Exercício 1, acesse e imprima na tela a cor da maçã e da banana."
   ]
  },
  {
   "cell_type": "code",
   "execution_count": 6,
   "metadata": {},
   "outputs": [
    {
     "ename": "SyntaxError",
     "evalue": "f-string: unmatched '[' (2043878300.py, line 2)",
     "output_type": "error",
     "traceback": [
      "\u001b[0;36m  Cell \u001b[0;32mIn[6], line 2\u001b[0;36m\u001b[0m\n\u001b[0;31m    print (f'{frutas['maçã']} {frutas['banana']}')\u001b[0m\n\u001b[0m                      ^\u001b[0m\n\u001b[0;31mSyntaxError\u001b[0m\u001b[0;31m:\u001b[0m f-string: unmatched '['\n"
     ]
    }
   ],
   "source": [
    "for i in frutas:\n",
    "    print (f'{frutas['maçã']} {frutas['banana']}')"
   ]
  },
  {
   "cell_type": "markdown",
   "metadata": {},
   "source": [
    "Exercício 3: Adicionando um novo item ao dicionário\n",
    "\n",
    "Ainda usando o dicionário frutas do Exercício 1, adicione uma nova chave \"laranja\" com o valor \"laranja\" (cor da fruta). Em seguida, imprima o dicionário atualizado."
   ]
  },
  {
   "cell_type": "code",
   "execution_count": null,
   "metadata": {},
   "outputs": [],
   "source": []
  },
  {
   "cell_type": "markdown",
   "metadata": {},
   "source": [
    "Exercício 4: Modificando um valor no dicionário\n",
    "\n",
    "Altere o valor da chave \"banana\" para \"verde\" (cor quando a fruta está verde). Após a modificação, imprima o dicionário atualizado."
   ]
  },
  {
   "cell_type": "code",
   "execution_count": null,
   "metadata": {},
   "outputs": [],
   "source": []
  },
  {
   "cell_type": "markdown",
   "metadata": {},
   "source": [
    "Exercício 5: Removendo um item do dicionário\n",
    "\n",
    "Remova a chave \"uva\" do dicionário frutas. Após a remoção, imprima o dicionário atualizado."
   ]
  },
  {
   "cell_type": "code",
   "execution_count": null,
   "metadata": {},
   "outputs": [],
   "source": []
  }
 ],
 "metadata": {
  "kernelspec": {
   "display_name": "Python 3",
   "language": "python",
   "name": "python3"
  },
  "language_info": {
   "codemirror_mode": {
    "name": "ipython",
    "version": 3
   },
   "file_extension": ".py",
   "mimetype": "text/x-python",
   "name": "python",
   "nbconvert_exporter": "python",
   "pygments_lexer": "ipython3",
   "version": "3.10.12"
  }
 },
 "nbformat": 4,
 "nbformat_minor": 2
}
