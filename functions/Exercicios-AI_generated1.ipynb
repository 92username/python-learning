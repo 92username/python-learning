{
 "cells": [
  {
   "cell_type": "markdown",
   "metadata": {},
   "source": [
    "## Nível 1: Muito Fácil\n",
    "\n",
    "Esses exercícios têm o objetivo de fixar os conceitos básicos de funções."
   ]
  },
  {
   "cell_type": "markdown",
   "metadata": {},
   "source": [
    "1. Crie uma função simples chamada hello que imprima \"Olá, mundo!\"."
   ]
  },
  {
   "cell_type": "code",
   "execution_count": 9,
   "metadata": {},
   "outputs": [
    {
     "name": "stdout",
     "output_type": "stream",
     "text": [
      "Olá,mundo\n"
     ]
    }
   ],
   "source": [
    "def hello(): #nao precisa de parametros\n",
    "    print('Olá,mundo') #é isso que imprime ola, mundo no console. \n",
    "\n",
    "#chama a função\n",
    "hello()"
   ]
  },
  {
   "cell_type": "markdown",
   "metadata": {},
   "source": [
    "2. Crie uma função chamada soma que recebe dois números como parâmetros e retorna a soma deles."
   ]
  },
  {
   "cell_type": "code",
   "execution_count": 18,
   "metadata": {},
   "outputs": [
    {
     "name": "stdout",
     "output_type": "stream",
     "text": [
      "A soma é 35\n"
     ]
    }
   ],
   "source": [
    "def soma():\n",
    "    # Captura dois números do usuário e converte para inteiros\n",
    "    numero1 = int(input('Digite o primeiro numero: '))\n",
    "    numero2 = int(input('Digite o segundo numero: '))\n",
    "    \n",
    "    # Calcula a soma\n",
    "    soma = numero1 + numero2\n",
    "    \n",
    "    # Exibe a soma\n",
    "    print(f'A soma é {soma}')\n",
    "\n",
    "# Chama a função\n",
    "soma()\n"
   ]
  },
  {
   "cell_type": "markdown",
   "metadata": {},
   "source": [
    "3. Defina uma função quadrado que recebe um número e retorna o quadrado desse número."
   ]
  },
  {
   "cell_type": "code",
   "execution_count": 20,
   "metadata": {},
   "outputs": [
    {
     "name": "stdout",
     "output_type": "stream",
     "text": [
      "O quadrado de 15 é 225\n"
     ]
    }
   ],
   "source": [
    "def quadrado():\n",
    "    #captura o numero do usuario\n",
    "    number = int(input('Digite um numero para ver o seu quadrado: '))\n",
    "\n",
    "    #efetua o quadrado\n",
    "    potencia = number ** 2 # ** é o operador de exponenciação!\n",
    "    print(f'O quadrado de {number} é {potencia}')\n",
    "\n",
    "#chama a função\n",
    "quadrado()\n"
   ]
  },
  {
   "cell_type": "markdown",
   "metadata": {},
   "source": [
    "4. Escreva uma função boas_vindas que recebe um nome como parâmetro e imprime \"Bem-vindo, [nome]!\""
   ]
  },
  {
   "cell_type": "code",
   "execution_count": 21,
   "metadata": {},
   "outputs": [
    {
     "name": "stdout",
     "output_type": "stream",
     "text": [
      "Seja bem-vindo Vinicius!\n"
     ]
    }
   ],
   "source": [
    "def boas_vindas():\n",
    "    nome = str(input('Digite seu nome: '))\n",
    "    print(f'Seja bem-vindo {nome}!')\n",
    "\n",
    "#chama a função:\n",
    "boas_vindas()"
   ]
  },
  {
   "cell_type": "markdown",
   "metadata": {},
   "source": [
    "5. Crie uma função dobro que receba um número e retorne o dobro desse número."
   ]
  },
  {
   "cell_type": "code",
   "execution_count": 22,
   "metadata": {},
   "outputs": [
    {
     "name": "stdout",
     "output_type": "stream",
     "text": [
      "O dobro de 36 é 72\n"
     ]
    }
   ],
   "source": [
    "def dobro():\n",
    "    number = int(input('Digite um numero para saber o seu dobro: '))\n",
    "    double = number * 2 # efetua o calculo * 2\n",
    "    print(f'O dobro de {number} é {double}')\n",
    "\n",
    "#chama a função\n",
    "dobro()"
   ]
  },
  {
   "cell_type": "markdown",
   "metadata": {},
   "source": [
    "## Nível 2: Fácil.  Agora você começa a aplicar os conceitos básicos em situações um pouco mais práticas."
   ]
  },
  {
   "cell_type": "markdown",
   "metadata": {},
   "source": [
    "1. Crie uma função media que recebe três números como parâmetros e retorna a média entre eles."
   ]
  },
  {
   "cell_type": "code",
   "execution_count": 23,
   "metadata": {},
   "outputs": [
    {
     "name": "stdout",
     "output_type": "stream",
     "text": [
      "A media aritmética de 15, 20 e 30 é: 21.666666666666668\n"
     ]
    }
   ],
   "source": [
    "def media():\n",
    "    numero1 = int(input('Digite o primeiro numero para calcular a media: '))\n",
    "    numero2 = int(input('Digite o segundo numero para calcular a media: '))\n",
    "    numero3 = int(input('Digite o terceiro numero para calcular a media: '))\n",
    "\n",
    "    media_aritmetica = (numero1 + numero2 + numero3) / 3\n",
    "    print(f'A media aritmética de {numero1}, {numero2} e {numero3} é: {media_aritmetica}')\n",
    "\n",
    "#chama a função\n",
    "media()"
   ]
  },
  {
   "cell_type": "code",
   "execution_count": 27,
   "metadata": {},
   "outputs": [
    {
     "name": "stdout",
     "output_type": "stream",
     "text": [
      "A média aritmética de 14, 25 e 35 é: 24.666666666666668\n"
     ]
    }
   ],
   "source": [
    "def media():\n",
    "    # Lista para armazenar os números\n",
    "    numeros = []\n",
    "    \n",
    "    # Loop para capturar os 3 números\n",
    "    for i in range(1, 4):\n",
    "        numero = int(input(f'Digite o {i}º número para calcular a média: '))\n",
    "        numeros.append(numero)  # Adiciona o número à lista\n",
    "    \n",
    "    # Calcula a média aritmética\n",
    "    media_aritmetica = sum(numeros) / len(numeros)\n",
    "    \n",
    "    # Exibe a média\n",
    "    print(f'A média aritmética de {numeros[0]}, {numeros[1]} e {numeros[2]} é: {media_aritmetica}')\n",
    "\n",
    "# Chama a função\n",
    "media()\n"
   ]
  },
  {
   "cell_type": "markdown",
   "metadata": {},
   "source": [
    "2. Escreva uma função eh_par que recebe um número como argumento e retorna True se for par, ou False se for ímpar."
   ]
  },
  {
   "cell_type": "code",
   "execution_count": 30,
   "metadata": {},
   "outputs": [
    {
     "name": "stdout",
     "output_type": "stream",
     "text": [
      "371 é não é par.\n"
     ]
    }
   ],
   "source": [
    "def eh_par():\n",
    "    numero = int(input('Digite um numero para saber se é par: '))\n",
    "    checando = numero % 2\n",
    "    if checando % 2 == 0:\n",
    "        print(f'{numero} é par.')\n",
    "    else:\n",
    "        print(f'{numero} é não é par.')\n",
    "\n",
    "# chama a função\n",
    "eh_par()\n",
    "    "
   ]
  },
  {
   "cell_type": "code",
   "execution_count": 34,
   "metadata": {},
   "outputs": [
    {
     "name": "stdout",
     "output_type": "stream",
     "text": [
      "False\n"
     ]
    }
   ],
   "source": [
    "# Codigo melhorado -  por ChatGPT\n",
    "\n",
    "def eh_par(numero):\n",
    "    # Verifica se o número é divisível por 2 (par)\n",
    "    return numero % 2 == 0\n",
    "\n",
    "# Testando a função\n",
    "numero = int(input('Digite um numero para saber se é par: '))\n",
    "\n",
    "# Exibe o retorno(True or False) diretamente\n",
    "print(eh_par(numero))"
   ]
  },
  {
   "cell_type": "markdown",
   "metadata": {},
   "source": [
    "3. Defina uma função fatorial que calcula o fatorial de um número inteiro dado."
   ]
  },
  {
   "cell_type": "code",
   "execution_count": null,
   "metadata": {},
   "outputs": [],
   "source": []
  },
  {
   "cell_type": "markdown",
   "metadata": {},
   "source": [
    "4. Crie uma função comparar que recebe dois números e retorna o maior entre eles."
   ]
  },
  {
   "cell_type": "code",
   "execution_count": null,
   "metadata": {},
   "outputs": [],
   "source": []
  },
  {
   "cell_type": "markdown",
   "metadata": {},
   "source": [
    "5. Escreva uma função converter_temperatura que converte de Celsius para Fahrenheit. Fórmula: F = C * 9/5 + 32"
   ]
  },
  {
   "cell_type": "code",
   "execution_count": null,
   "metadata": {},
   "outputs": [],
   "source": []
  },
  {
   "cell_type": "markdown",
   "metadata": {},
   "source": [
    "## Nível 3: Médio.  Os exercicios começam a exigir a concatenação de idéias e conceitos."
   ]
  },
  {
   "cell_type": "markdown",
   "metadata": {},
   "source": [
    "1. Escreva uma função eh_primo que recebe um número e retorna se ele é primo ou não."
   ]
  },
  {
   "cell_type": "code",
   "execution_count": null,
   "metadata": {},
   "outputs": [],
   "source": []
  },
  {
   "cell_type": "markdown",
   "metadata": {},
   "source": [
    "2. Crie uma função soma_lista que recebe uma lista de números e retorna a soma de todos os números da lista."
   ]
  },
  {
   "cell_type": "code",
   "execution_count": null,
   "metadata": {},
   "outputs": [],
   "source": []
  },
  {
   "cell_type": "markdown",
   "metadata": {},
   "source": [
    "3. Implemente uma função conta_vogais que conta quantas vogais existem em uma string passada como parâmetro."
   ]
  },
  {
   "cell_type": "code",
   "execution_count": null,
   "metadata": {},
   "outputs": [],
   "source": []
  },
  {
   "cell_type": "markdown",
   "metadata": {},
   "source": [
    "4. Crie uma função contagem_regressiva que receba um número inteiro e imprima uma contagem regressiva até zero."
   ]
  },
  {
   "cell_type": "code",
   "execution_count": null,
   "metadata": {},
   "outputs": [],
   "source": []
  },
  {
   "cell_type": "markdown",
   "metadata": {},
   "source": [
    "5.     Implemente uma função palindromo que verifica se uma string é um palíndromo (lê-se da mesma forma de trás para frente).\n",
    "\n"
   ]
  },
  {
   "cell_type": "code",
   "execution_count": null,
   "metadata": {},
   "outputs": [],
   "source": []
  },
  {
   "cell_type": "markdown",
   "metadata": {},
   "source": [
    "## Nível 4: Difícil\n",
    "\n",
    "Esses exercícios conectam o conteúdo atual com conceitos anteriores, exigindo mais elaboração."
   ]
  },
  {
   "cell_type": "markdown",
   "metadata": {},
   "source": [
    "1. Crie uma função calcular_imc que recebe o peso e a altura de uma pessoa e retorna o IMC (Índice de Massa Corporal). Fórmula: IMC = peso / altura^2."
   ]
  },
  {
   "cell_type": "code",
   "execution_count": null,
   "metadata": {},
   "outputs": [],
   "source": []
  },
  {
   "cell_type": "markdown",
   "metadata": {},
   "source": [
    "2. Implemente uma função encontrar_min_max que recebe uma lista de números e retorna o menor e o maior valor da lista."
   ]
  },
  {
   "cell_type": "code",
   "execution_count": null,
   "metadata": {},
   "outputs": [],
   "source": []
  },
  {
   "cell_type": "markdown",
   "metadata": {},
   "source": [
    "3. Crie uma função jogo_adivinhacao onde o usuário deve adivinhar um número aleatório entre 1 e 100. A função dá dicas se o número é maior ou menor que a tentativa."
   ]
  },
  {
   "cell_type": "code",
   "execution_count": null,
   "metadata": {},
   "outputs": [],
   "source": []
  },
  {
   "cell_type": "markdown",
   "metadata": {},
   "source": [
    "4. Crie uma função jogo_adivinhacao onde o usuário deve adivinhar um número aleatório entre 1 e 100. A função dá dicas se o número é maior ou menor que a tentativa."
   ]
  },
  {
   "cell_type": "code",
   "execution_count": null,
   "metadata": {},
   "outputs": [],
   "source": []
  },
  {
   "cell_type": "markdown",
   "metadata": {},
   "source": [
    "5.     Implemente uma função contar_palavras que conta quantas palavras existem em uma string dada."
   ]
  },
  {
   "cell_type": "code",
   "execution_count": null,
   "metadata": {},
   "outputs": [],
   "source": []
  },
  {
   "cell_type": "markdown",
   "metadata": {},
   "source": [
    "## Nível muito difícil\n",
    "Exercícios que exigem a utilização combinada de vários conceitos aprendidos."
   ]
  },
  {
   "cell_type": "markdown",
   "metadata": {},
   "source": [
    "1. Crie uma função calculadora que recebe uma string representando uma operação (ex: \"2 + 3\") e retorna o resultado da operação. A função deve suportar adição, subtração, multiplicação e divisão."
   ]
  },
  {
   "cell_type": "code",
   "execution_count": null,
   "metadata": {},
   "outputs": [],
   "source": []
  },
  {
   "cell_type": "markdown",
   "metadata": {},
   "source": [
    "2. Escreva uma função analisador_texto que recebe um texto e retorna um dicionário com o número de palavras, o número de caracteres e a frequência de cada palavra no texto."
   ]
  },
  {
   "cell_type": "code",
   "execution_count": null,
   "metadata": {},
   "outputs": [],
   "source": []
  }
 ],
 "metadata": {
  "kernelspec": {
   "display_name": "Python 3",
   "language": "python",
   "name": "python3"
  },
  "language_info": {
   "codemirror_mode": {
    "name": "ipython",
    "version": 3
   },
   "file_extension": ".py",
   "mimetype": "text/x-python",
   "name": "python",
   "nbconvert_exporter": "python",
   "pygments_lexer": "ipython3",
   "version": "3.10.12"
  }
 },
 "nbformat": 4,
 "nbformat_minor": 2
}
