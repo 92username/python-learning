{
 "cells": [
  {
   "cell_type": "markdown",
   "metadata": {},
   "source": [
    "1. primeira aula dicionarios - microsoft learn path - python"
   ]
  },
  {
   "cell_type": "code",
   "execution_count": 2,
   "metadata": {},
   "outputs": [
    {
     "name": "stdout",
     "output_type": "stream",
     "text": [
      "october: 3.5cm\n",
      "november: 4.2cm\n",
      "december: 2.1cm\n"
     ]
    }
   ],
   "source": [
    "rainfall = {\n",
    "    'october': 3.5,\n",
    "    'november': 4.2,\n",
    "    'december': 2.1\n",
    "}\n",
    "for key in rainfall.keys():\n",
    "    print(f'{key}: {rainfall[key]}cm')"
   ]
  },
  {
   "cell_type": "code",
   "execution_count": 3,
   "metadata": {},
   "outputs": [],
   "source": [
    "if 'december' in rainfall:\n",
    "    rainfall['december'] = rainfall['december'] + 1\n",
    "else:\n",
    "    rainfall['december'] = 1\n",
    "\n",
    "# Because december exists, the value will be 3.1"
   ]
  },
  {
   "cell_type": "code",
   "execution_count": 4,
   "metadata": {},
   "outputs": [
    {
     "name": "stdout",
     "output_type": "stream",
     "text": [
      "There was 10.8cm in the last quarter.\n"
     ]
    }
   ],
   "source": [
    "total_rainfall = 0\n",
    "for value in rainfall.values():\n",
    "    total_rainfall = total_rainfall + value\n",
    "\n",
    "print(f'There was {total_rainfall}cm in the last quarter.')"
   ]
  },
  {
   "cell_type": "markdown",
   "metadata": {},
   "source": [
    "Exercicio MS learn:"
   ]
  },
  {
   "cell_type": "code",
   "execution_count": 13,
   "metadata": {},
   "outputs": [
    {
     "name": "stdout",
     "output_type": "stream",
     "text": [
      "mercury: 0 moons \n",
      "venus: 0 moons \n",
      "earth: 1 moons \n",
      "mars: 2 moons \n",
      "jupiter: 79 moons \n",
      "saturn: 82 moons \n",
      "uranus: 27 moons \n",
      "neptune: 14 moons \n",
      "pluto: 5 moons \n",
      "haumea: 2 moons \n",
      "makemake: 1 moons \n",
      "eris: 1 moons \n"
     ]
    }
   ],
   "source": [
    "planet_moons = {\n",
    "    'mercury': 0,\n",
    "    'venus': 0,\n",
    "    'earth': 1,\n",
    "    'mars': 2,\n",
    "    'jupiter': 79,\n",
    "    'saturn': 82,\n",
    "    'uranus': 27,\n",
    "    'neptune': 14,\n",
    "    'pluto': 5,\n",
    "    'haumea': 2,\n",
    "    'makemake': 1,\n",
    "    'eris': 1\n",
    "}\n",
    "\n",
    "for key in planet_moons.keys():\n",
    "    print(f'{key}: {planet_moons[key]} moons ')"
   ]
  },
  {
   "cell_type": "markdown",
   "metadata": {},
   "source": [
    "Obtain a list of moons and number of planets\n",
    "\n",
    "Python dictionaries allow you to retrieve all the values and keys by using the values and keys methods, respectively. Each method returns a list containing the data, which can then be used like a regular Python list. You can determine the number of items by using len, and iterate through it by using for loops. In the dictionary you created, the planet names are keys and the number of moons are the values.\n",
    "\n",
    "Start by retrieving a list with the number of moons, and store this in a variable named moons. Then obtain the total number of planets and store that value in a variable named total_planets.\n"
   ]
  },
  {
   "cell_type": "code",
   "execution_count": 20,
   "metadata": {},
   "outputs": [
    {
     "name": "stdout",
     "output_type": "stream",
     "text": [
      "dict_values([0, 0, 1, 2, 79, 82, 27, 14, 5, 2, 1, 1])\n",
      "12\n"
     ]
    }
   ],
   "source": [
    "moons = planet_moons.values() #O método values() vai pegar todos os valores desse dicionário, que são o número de luas de cada planeta, e criar uma lista: moons = [0, 0, 1, 2, 79, 82, 27, 14, 5, 2, 1, 1]\n",
    "total_planets = len(planet_moons.keys()) #A variável total_planets vai armazenar o número de planetas, que é o comprimento da lista de chaves (ou seja, o número de planetas no dicionário). Nesse caso, o valor seria 12 (porque há 12 planetas ou corpos listados no dicionário).\n",
    "print (moons)\n",
    "print (total_planets)"
   ]
  },
  {
   "cell_type": "markdown",
   "metadata": {},
   "source": [
    "Determine the average number of moons\n",
    "\n",
    "You will finish this exercise by determining the average number of moons. Start by creating a variable named total_moons; this will be your counter for the total number of moons. Then add a for loop to loop through the list of moons, adding each value to total_moons. Finally, calculate the average by dividing total_moons by total_planets and displaying the value.\n"
   ]
  },
  {
   "cell_type": "code",
   "execution_count": 25,
   "metadata": {},
   "outputs": [
    {
     "name": "stdout",
     "output_type": "stream",
     "text": [
      "Each planet has an average of 17.83 moons\n"
     ]
    }
   ],
   "source": [
    "total_moons = 0\n",
    "for moon in moons:\n",
    "    total_moons = total_moons + moon\n",
    "\n",
    "average = total_moons / total_planets\n",
    "print(f'Each planet has an average of {average:.2f} moons')\n",
    "\n",
    "'''for moon in moons:\n",
    "\n",
    "    Este é um loop for que percorre todos os itens da lista moons.\n",
    "        moons contém os números de luas de cada planeta, algo assim: [0, 0, 1, 2, 79, 82, 27, 14, 5, 2, 1, 1].\n",
    "    A cada iteração do loop, a variável moon recebe o número de luas de um planeta.\n",
    "\n",
    "3. total_moons = total_moons + moon\n",
    "\n",
    "    A cada iteração, o número de luas do planeta atual (moon) é somado ao valor de total_moons.\n",
    "    Por exemplo:\n",
    "        Primeira iteração: moon = 0, então total_moons = 0 + 0 = 0.\n",
    "        Segunda iteração: moon = 0, então total_moons = 0 + 0 = 0.\n",
    "        Terceira iteração: moon = 1, então total_moons = 0 + 1 = 1.\n",
    "        Quarta iteração: moon = 2, então total_moons = 1 + 2 = 3.\n",
    "        E assim por diante.\n",
    "    Objetivo: Acumular o número total de luas.'''"
   ]
  }
 ],
 "metadata": {
  "kernelspec": {
   "display_name": "Python 3",
   "language": "python",
   "name": "python3"
  },
  "language_info": {
   "codemirror_mode": {
    "name": "ipython",
    "version": 3
   },
   "file_extension": ".py",
   "mimetype": "text/x-python",
   "name": "python",
   "nbconvert_exporter": "python",
   "pygments_lexer": "ipython3",
   "version": "3.10.12"
  }
 },
 "nbformat": 4,
 "nbformat_minor": 2
}
