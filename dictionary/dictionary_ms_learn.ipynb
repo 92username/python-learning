{
 "cells": [
  {
   "cell_type": "markdown",
   "metadata": {},
   "source": [
    "1. primeira aula dicionarios - microsoft learn path - python"
   ]
  },
  {
   "cell_type": "code",
   "execution_count": 2,
   "metadata": {},
   "outputs": [
    {
     "name": "stdout",
     "output_type": "stream",
     "text": [
      "october: 3.5cm\n",
      "november: 4.2cm\n",
      "december: 2.1cm\n"
     ]
    }
   ],
   "source": [
    "rainfall = {\n",
    "    'october': 3.5,\n",
    "    'november': 4.2,\n",
    "    'december': 2.1\n",
    "}\n",
    "for key in rainfall.keys():\n",
    "    print(f'{key}: {rainfall[key]}cm')"
   ]
  },
  {
   "cell_type": "code",
   "execution_count": 3,
   "metadata": {},
   "outputs": [],
   "source": [
    "if 'december' in rainfall:\n",
    "    rainfall['december'] = rainfall['december'] + 1\n",
    "else:\n",
    "    rainfall['december'] = 1\n",
    "\n",
    "# Because december exists, the value will be 3.1"
   ]
  },
  {
   "cell_type": "code",
   "execution_count": 4,
   "metadata": {},
   "outputs": [
    {
     "name": "stdout",
     "output_type": "stream",
     "text": [
      "There was 10.8cm in the last quarter.\n"
     ]
    }
   ],
   "source": [
    "total_rainfall = 0\n",
    "for value in rainfall.values():\n",
    "    total_rainfall = total_rainfall + value\n",
    "\n",
    "print(f'There was {total_rainfall}cm in the last quarter.')"
   ]
  },
  {
   "cell_type": "markdown",
   "metadata": {},
   "source": [
    "Exercicio MS learn:"
   ]
  },
  {
   "cell_type": "code",
   "execution_count": 13,
   "metadata": {},
   "outputs": [
    {
     "name": "stdout",
     "output_type": "stream",
     "text": [
      "mercury: 0 moons \n",
      "venus: 0 moons \n",
      "earth: 1 moons \n",
      "mars: 2 moons \n",
      "jupiter: 79 moons \n",
      "saturn: 82 moons \n",
      "uranus: 27 moons \n",
      "neptune: 14 moons \n",
      "pluto: 5 moons \n",
      "haumea: 2 moons \n",
      "makemake: 1 moons \n",
      "eris: 1 moons \n"
     ]
    }
   ],
   "source": [
    "planet_moons = {\n",
    "    'mercury': 0,\n",
    "    'venus': 0,\n",
    "    'earth': 1,\n",
    "    'mars': 2,\n",
    "    'jupiter': 79,\n",
    "    'saturn': 82,\n",
    "    'uranus': 27,\n",
    "    'neptune': 14,\n",
    "    'pluto': 5,\n",
    "    'haumea': 2,\n",
    "    'makemake': 1,\n",
    "    'eris': 1\n",
    "}\n",
    "\n",
    "for key in planet_moons.keys():\n",
    "    print(f'{key}: {planet_moons[key]} moons ')"
   ]
  }
 ],
 "metadata": {
  "kernelspec": {
   "display_name": "Python 3",
   "language": "python",
   "name": "python3"
  },
  "language_info": {
   "codemirror_mode": {
    "name": "ipython",
    "version": 3
   },
   "file_extension": ".py",
   "mimetype": "text/x-python",
   "name": "python",
   "nbconvert_exporter": "python",
   "pygments_lexer": "ipython3",
   "version": "3.10.12"
  }
 },
 "nbformat": 4,
 "nbformat_minor": 2
}
