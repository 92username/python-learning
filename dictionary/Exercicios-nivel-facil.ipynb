{
 "cells": [
  {
   "cell_type": "markdown",
   "metadata": {},
   "source": [
    "Vamos avançar um pouco mais e trabalhar com exercícios de nível fácil para praticar e reforçar o entendimento sobre dicionários. Aqui estão os exercícios de nível 2:"
   ]
  },
  {
   "cell_type": "markdown",
   "metadata": {},
   "source": [
    "Exercício 1: Contando a frequência de elementos\n",
    "\n",
    "Crie uma função chamada contar_elementos que recebe uma lista de palavras e retorna um dicionário onde as chaves são as palavras e os valores representam quantas vezes cada palavra aparece na lista.\n",
    "\n",
    "Exemplo de entrada:\n",
    "palavras = [\"gato\", \"cachorro\", \"gato\", \"papagaio\", \"gato\", \"cachorro\"]\n",
    "\n",
    "Saída esperada:\n",
    "{\"gato\": 3, \"cachorro\": 2, \"papagaio\": 1}\n"
   ]
  },
  {
   "cell_type": "code",
   "execution_count": null,
   "metadata": {},
   "outputs": [],
   "source": []
  },
  {
   "cell_type": "markdown",
   "metadata": {},
   "source": [
    "Exercício 2: Atualizando múltiplos valores\n",
    "\n",
    "Crie um dicionário chamado estoque que contenha as seguintes informações sobre frutas e suas quantidades:\n",
    "\n",
    "    \"maçã\": 10\n",
    "    \"banana\": 8\n",
    "    \"laranja\": 15\n",
    "\n",
    "Agora, crie uma função chamada atualizar_estoque que receba o dicionário e uma nova lista de compras, atualizando as quantidades no estoque.\n",
    "\n",
    "Exemplo de lista de compras:\n",
    "compras = {\"maçã\": 5, \"banana\": 2, \"laranja\": 4}\n",
    "A função deve somar as quantidades ao estoque e imprimir o dicionário atualizado."
   ]
  },
  {
   "cell_type": "code",
   "execution_count": null,
   "metadata": {},
   "outputs": [],
   "source": []
  },
  {
   "cell_type": "markdown",
   "metadata": {},
   "source": [
    "Exercício 3: Verificando a presença de uma chave\n",
    "\n",
    "Crie um dicionário chamado alunos onde as chaves são os nomes dos alunos e os valores são suas notas. Depois, escreva uma função chamada verificar_aluno que recebe um nome de aluno e verifica se ele está no dicionário. Se o aluno estiver, a função deve imprimir a nota dele; caso contrário, a função deve exibir uma mensagem dizendo que o aluno não foi encontrado.\n",
    "\n",
    "Exemplo de dicionário de alunos:\n",
    "alunos = {\"Ana\": 8.5, \"João\": 7.0, \"Maria\": 9.2}\n"
   ]
  },
  {
   "cell_type": "code",
   "execution_count": null,
   "metadata": {},
   "outputs": [],
   "source": []
  },
  {
   "cell_type": "markdown",
   "metadata": {},
   "source": [
    "Exercício 4: Dicionário com listas como valores\n",
    "\n",
    "Crie um dicionário chamado notas_alunos onde as chaves são os nomes de alunos e os valores são listas com três notas. Depois, crie uma função chamada media_aluno que calcula a média das notas de um aluno e retorna o resultado.\n",
    "\n",
    "Exemplo de dicionário:\n",
    "notas_alunos = {\"Pedro\": [7, 8, 9], \"Lucas\": [6, 7, 8], \"Carla\": [9, 9, 10]}\n",
    "\n",
    "A função deve receber o nome do aluno e calcular a média das notas dele. Caso o aluno não exista no dicionário, uma mensagem de erro deve ser exibida."
   ]
  },
  {
   "cell_type": "code",
   "execution_count": null,
   "metadata": {},
   "outputs": [],
   "source": []
  },
  {
   "cell_type": "markdown",
   "metadata": {},
   "source": [
    "Exercício 5: Invertendo chaves e valores\n",
    "\n",
    "Crie uma função chamada inverter_dicionario que recebe um dicionário e inverte as suas chaves e valores. O valor original se torna a chave e a chave original se torna o valor.\n",
    "\n",
    "Exemplo de entrada:\n",
    "dicionario = {\"azul\": \"céu\", \"verde\": \"grama\", \"vermelho\": \"fogo\"}\n",
    "\n",
    "Saída esperada:\n",
    "{\"céu\": \"azul\", \"grama\": \"verde\", \"fogo\": \"vermelho\"}\n"
   ]
  },
  {
   "cell_type": "code",
   "execution_count": null,
   "metadata": {},
   "outputs": [],
   "source": []
  }
 ],
 "metadata": {
  "kernelspec": {
   "display_name": "Python 3",
   "language": "python",
   "name": "python3"
  },
  "language_info": {
   "name": "python",
   "version": "3.10.12"
  }
 },
 "nbformat": 4,
 "nbformat_minor": 2
}
