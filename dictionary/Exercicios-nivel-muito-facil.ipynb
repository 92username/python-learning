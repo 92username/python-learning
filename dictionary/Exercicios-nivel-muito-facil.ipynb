{
 "cells": [
  {
   "cell_type": "markdown",
   "metadata": {},
   "source": [
    "Exercício 1: Tradutor de Cores\n",
    "\n",
    "Crie um dicionário que mapeie o nome de algumas cores em inglês para seus respectivos nomes em português.\n",
    "Instruções:\n",
    "\n",
    "    Crie um dicionário com pelo menos 5 cores em inglês como chaves e suas traduções em português como valores.\n",
    "    Peça ao usuário para digitar o nome de uma cor em inglês.\n",
    "    Exiba a tradução dessa cor para o português.\n",
    "    Se a cor não estiver no dicionário, exiba uma mensagem dizendo que a cor não foi encontrada.\n"
   ]
  },
  {
   "cell_type": "code",
   "execution_count": 2,
   "metadata": {},
   "outputs": [
    {
     "name": "stdout",
     "output_type": "stream",
     "text": [
      "Essa cor não está no dicionário\n"
     ]
    }
   ],
   "source": [
    "colors = {\n",
    "    'red' : 'vermelho',\n",
    "    'yellow' : 'amarelo',\n",
    "    'blue' : 'azul',\n",
    "    'black' : 'preto',\n",
    "    'white' : 'branco',\n",
    "    'pink' : 'rosa'\n",
    "}\n",
    "cores = input('Digite o nome da cor em inglês: ').lower()\n",
    "if cores in colors:\n",
    "    print(f'{cores} em português é {colors[cores]}')\n",
    "else:\n",
    "    print(\"Essa cor não está no dicionário\")"
   ]
  },
  {
   "cell_type": "markdown",
   "metadata": {},
   "source": [
    "Exercício 2: Cadastro de Estudantes\n",
    "\n",
    "Crie um dicionário que armazene o nome de um estudante como chave e sua nota como valor.\n",
    "Instruções:\n",
    "\n",
    "    Crie um dicionário vazio.\n",
    "    Adicione três entradas no dicionário (nome do aluno e nota).\n",
    "    Imprima os nomes e as notas dos alunos no formato: \"Nome: nota\"."
   ]
  },
  {
   "cell_type": "code",
   "execution_count": 2,
   "metadata": {},
   "outputs": [
    {
     "name": "stdout",
     "output_type": "stream",
     "text": [
      "Nome:Alberto nota: 7.0\n",
      "Nome:Beatriz nota: 9.0\n",
      "Nome:Carla nota: 9.5\n"
     ]
    }
   ],
   "source": [
    "estudantes = {} #cria o dicionario vazio\n",
    "\n",
    "#adiciona 3 entradas manualmente ao dicionario\n",
    "estudantes['Alberto'] = 7.0\n",
    "estudantes['Beatriz'] = 9.0\n",
    "estudantes['Carla'] = 9.5\n",
    "\n",
    "\n",
    "for nome in estudantes: #percorre o dicionario\n",
    "    print(f'Nome:{nome} nota: {estudantes[nome]}') #imprime a key e o valor relacionado um por um.\n",
    "\n"
   ]
  },
  {
   "cell_type": "markdown",
   "metadata": {},
   "source": [
    "Exercício 3: Contagem de Palavras\n",
    "\n",
    "Dado um texto curto, crie um dicionário que conte quantas vezes cada palavra aparece no texto.\n",
    "Instruções:\n",
    "\n",
    "    Crie uma variável texto que armazene uma frase (pode ser definida diretamente no código).\n",
    "    Divida a frase em palavras.\n",
    "    Crie um dicionário onde cada palavra é uma chave e o valor é o número de vezes que essa palavra aparece no texto.\n",
    "    Exiba o dicionário resultante."
   ]
  },
  {
   "cell_type": "code",
   "execution_count": 13,
   "metadata": {},
   "outputs": [
    {
     "name": "stdout",
     "output_type": "stream",
     "text": [
      "{'vamos': 1, 'colher': 2, 'de': 1, 'a': 1, 'colheita': 1, 'desse': 1, 'ano': 1}\n"
     ]
    }
   ],
   "source": [
    "frase = \"vamos colher de colher a colheita desse ano\".lower()\n",
    "palavras = frase.split()\n",
    "contador ={} \n",
    "\n",
    "for palavra in palavras:\n",
    "    if palavra in contador:\n",
    "        contador[palavra] +=1\n",
    "    else:\n",
    "        contador[palavra] = 1\n",
    "\n",
    "print(contador)\n"
   ]
  },
  {
   "cell_type": "markdown",
   "metadata": {},
   "source": [
    "Exercicio 4: Crie um dicionário que armazene a contagem de cada vogal em uma palavra fornecida pelo usuário.\n",
    "Instruções:\n",
    "    Solicite ao usuário que digite uma palavra.\n",
    "    Crie um dicionário onde as chaves sejam as vogais ('a', 'e', 'i', 'o', 'u') e os valores sejam a quantidade de vezes que cada vogal aparece na palavra.\n",
    "    Exiba o dicionário resultante."
   ]
  },
  {
   "cell_type": "code",
   "execution_count": 2,
   "metadata": {},
   "outputs": [
    {
     "name": "stdout",
     "output_type": "stream",
     "text": [
      "{'a': 3, 'e': 1, 'i': 1, 'o': 0, 'u': 0}\n"
     ]
    }
   ],
   "source": [
    "palavra = input('Digite uma palavra para contar suas vogais: ').lower()\n",
    "\n",
    "# Dicionário com vogais como chave e contador iniciado em 0\n",
    "contador = {'a': 0, 'e': 0, 'i': 0, 'o': 0, 'u': 0}\n",
    "\n",
    "# Percorre cada letra na palavra\n",
    "for letra in palavra:\n",
    "    # Verifica se a letra está no dicionário (ou seja, se é uma vogal)\n",
    "    if letra in contador:\n",
    "        # Incrementa o valor da vogal no dicionário\n",
    "        contador[letra] += 1\n",
    "\n",
    "# Exibe o dicionário com a contagem das vogais\n",
    "print(contador)"
   ]
  },
  {
   "cell_type": "markdown",
   "metadata": {},
   "source": [
    "Exercício 5: Cadastro de Produtos\n",
    "\n",
    "Crie um dicionário para armazenar preços de produtos.\n",
    "\n",
    "Instruções:\n",
    "\n",
    "    Crie um dicionário vazio para armazenar produtos e seus preços.\n",
    "    Solicite ao usuário o nome de 3 produtos e seus respectivos preços.\n",
    "    Após adicionar os produtos, exiba o dicionário completo com os produtos e preços."
   ]
  },
  {
   "cell_type": "code",
   "execution_count": 23,
   "metadata": {},
   "outputs": [
    {
     "name": "stdout",
     "output_type": "stream",
     "text": [
      "Produto: teclado | Preço: R$ 299.00\n",
      "Produto: mouse | Preço: R$ 49.00\n",
      "Produto: monitor | Preço: R$ 899.00\n"
     ]
    }
   ],
   "source": [
    "# Cria um dicionário vazio para armazenar os produtos e preços\n",
    "produtos_precos = {}\n",
    "\n",
    "# Loop para solicitar 3 produtos e seus respectivos preços\n",
    "for i in range(3):  # Repete 3 vezes\n",
    "    nome_produto = input('Digite o nome do produto: ')\n",
    "    preco = float(input('Agora o preço do produto: '))  # Converte para float para aceitar números decimais\n",
    "    produtos_precos[nome_produto] = preco  # Adiciona o nome do produto como chave e o preço como valor\n",
    "\n",
    "# Exibe o dicionário completo com os produtos e seus preços\n",
    "for nome_produto, preco in produtos_precos.items():\n",
    "    print(f'Produto: {nome_produto} | Preço: R$ {preco:.2f}')  # Exibe o preço com duas casas decimais\n"
   ]
  },
  {
   "cell_type": "markdown",
   "metadata": {},
   "source": [
    "Exercicio 6: Cadastro de Alunos e Notas\n",
    "\n",
    "Instruções:\n",
    "\n",
    "Crie um dicionário para armazenar as notas dos alunos.\n",
    "\n",
    "    Solicite ao usuário o nome de 3 alunos e suas respectivas notas.\n",
    "    Após adicionar os alunos, exiba o dicionário completo com os nomes e notas."
   ]
  },
  {
   "cell_type": "code",
   "execution_count": 26,
   "metadata": {},
   "outputs": [
    {
     "name": "stdout",
     "output_type": "stream",
     "text": [
      "Nome do aluno: carlos | Nota do aluno: 7.0\n",
      "Nome do aluno: tarcisio | Nota do aluno: 8.0\n",
      "Nome do aluno: geisa | Nota do aluno: 9.0\n"
     ]
    }
   ],
   "source": [
    "lista_alunos = {} #cria lista de alunos vazia\n",
    "\n",
    "for i in range(3): #repete 3 vezes\n",
    "    nome_aluno = input('Digite o nome do aluno: ')\n",
    "    nota_aluno = float(input('Digite a nota do aluno: '))\n",
    "    lista_alunos[nome_aluno] = nota_aluno\n",
    "\n",
    "for nome_aluno, nota_aluno in lista_alunos.items():\n",
    "    print(f'Nome do aluno: {nome_aluno} | Nota do aluno: {nota_aluno}')"
   ]
  },
  {
   "cell_type": "markdown",
   "metadata": {},
   "source": [
    "Exercicio 7: Cadastro de Livros e Autores\n",
    "\n",
    "Instruções:\n",
    "\n",
    "Crie um dicionário para armazenar os nomes dos livros e seus respectivos autores.\n",
    "\n",
    "    Solicite ao usuário o nome de 3 livros e seus respectivos autores.\n",
    "    Após adicionar os livros, exiba o dicionário completo com os títulos dos livros e os nomes dos autores."
   ]
  },
  {
   "cell_type": "code",
   "execution_count": 29,
   "metadata": {},
   "outputs": [
    {
     "name": "stdout",
     "output_type": "stream",
     "text": [
      "Livro: Biologia  | Autor: Aloisia\n",
      "Livro: Universidade | Autor: Benet\n",
      "Livro: Simpatia | Autor: Adriano Rondon\n"
     ]
    }
   ],
   "source": [
    "cadastro_livros_autores = {}\n",
    "\n",
    "for i in range(3):\n",
    "    livro = input('Digite o nome do livro: ')\n",
    "    autor = input('Digite o nome do autor')\n",
    "    cadastro_livros_autores[livro] = autor\n",
    "\n",
    "for livro, autor in cadastro_livros_autores.items():\n",
    "       print(f'Livro: {livro} | Autor: {autor}' )"
   ]
  },
  {
   "cell_type": "markdown",
   "metadata": {},
   "source": [
    "Exercício 6: Remover Estudantes\n",
    "\n",
    "Crie um dicionário de estudantes e permita a remoção de um estudante.\n",
    "\n",
    "Instruções:\n",
    "\n",
    "    Crie um dicionário com o nome de três estudantes como chaves e suas idades como valores.\n",
    "    Solicite ao usuário o nome de um estudante que deseja remover do dicionário.\n",
    "    Remova o estudante e exiba o dicionário atualizado."
   ]
  },
  {
   "cell_type": "code",
   "execution_count": null,
   "metadata": {},
   "outputs": [],
   "source": []
  },
  {
   "cell_type": "markdown",
   "metadata": {},
   "source": [
    "Exercício 7: Inventário de Estoque\n",
    "\n",
    "Crie um sistema simples de inventário para um armazém.\n",
    "\n",
    "Instruções:\n",
    "\n",
    "    Crie um dicionário que armazene 5 itens de um armazém e a quantidade disponível de cada item.\n",
    "    Solicite ao usuário que insira o nome de um item para verificar a quantidade disponível.\n",
    "    Exiba a quantidade ou uma mensagem dizendo que o item não foi encontrado no inventário."
   ]
  },
  {
   "cell_type": "code",
   "execution_count": null,
   "metadata": {},
   "outputs": [],
   "source": []
  }
 ],
 "metadata": {
  "kernelspec": {
   "display_name": "Python 3",
   "language": "python",
   "name": "python3"
  },
  "language_info": {
   "codemirror_mode": {
    "name": "ipython",
    "version": 3
   },
   "file_extension": ".py",
   "mimetype": "text/x-python",
   "name": "python",
   "nbconvert_exporter": "python",
   "pygments_lexer": "ipython3",
   "version": "3.10.12"
  }
 },
 "nbformat": 4,
 "nbformat_minor": 2
}
