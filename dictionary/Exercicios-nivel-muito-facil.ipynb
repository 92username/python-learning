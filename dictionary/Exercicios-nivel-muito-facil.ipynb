{
 "cells": [
  {
   "cell_type": "markdown",
   "metadata": {},
   "source": [
    "Exercício 1: Tradutor de Cores\n",
    "\n",
    "Crie um dicionário que mapeie o nome de algumas cores em inglês para seus respectivos nomes em português.\n",
    "Instruções:\n",
    "\n",
    "    Crie um dicionário com pelo menos 5 cores em inglês como chaves e suas traduções em português como valores.\n",
    "    Peça ao usuário para digitar o nome de uma cor em inglês.\n",
    "    Exiba a tradução dessa cor para o português.\n",
    "    Se a cor não estiver no dicionário, exiba uma mensagem dizendo que a cor não foi encontrada.\n"
   ]
  },
  {
   "cell_type": "code",
   "execution_count": 2,
   "metadata": {},
   "outputs": [
    {
     "name": "stdout",
     "output_type": "stream",
     "text": [
      "Essa cor não está no dicionário\n"
     ]
    }
   ],
   "source": [
    "colors = {\n",
    "    'red' : 'vermelho',\n",
    "    'yellow' : 'amarelo',\n",
    "    'blue' : 'azul',\n",
    "    'black' : 'preto',\n",
    "    'white' : 'branco',\n",
    "    'pink' : 'rosa'\n",
    "}\n",
    "cores = input('Digite o nome da cor em inglês: ').lower()\n",
    "if cores in colors:\n",
    "    print(f'{cores} em português é {colors[cores]}')\n",
    "else:\n",
    "    print(\"Essa cor não está no dicionário\")"
   ]
  },
  {
   "cell_type": "markdown",
   "metadata": {},
   "source": [
    "Exercício 2: Cadastro de Estudantes\n",
    "\n",
    "Crie um dicionário que armazene o nome de um estudante como chave e sua nota como valor.\n",
    "Instruções:\n",
    "\n",
    "    Crie um dicionário vazio.\n",
    "    Adicione três entradas no dicionário (nome do aluno e nota).\n",
    "    Imprima os nomes e as notas dos alunos no formato: \"Nome: nota\"."
   ]
  },
  {
   "cell_type": "code",
   "execution_count": null,
   "metadata": {},
   "outputs": [],
   "source": [
    "estudantes = {}\n",
    "\n"
   ]
  },
  {
   "cell_type": "markdown",
   "metadata": {},
   "source": [
    "Exercício 3: Contagem de Palavras\n",
    "\n",
    "Dado um texto curto, crie um dicionário que conte quantas vezes cada palavra aparece no texto.\n",
    "Instruções:\n",
    "\n",
    "    Crie uma variável texto que armazene uma frase (pode ser definida diretamente no código).\n",
    "    Divida a frase em palavras.\n",
    "    Crie um dicionário onde cada palavra é uma chave e o valor é o número de vezes que essa palavra aparece no texto.\n",
    "    Exiba o dicionário resultante."
   ]
  },
  {
   "cell_type": "code",
   "execution_count": null,
   "metadata": {},
   "outputs": [],
   "source": []
  }
 ],
 "metadata": {
  "kernelspec": {
   "display_name": "Python 3",
   "language": "python",
   "name": "python3"
  },
  "language_info": {
   "codemirror_mode": {
    "name": "ipython",
    "version": 3
   },
   "file_extension": ".py",
   "mimetype": "text/x-python",
   "name": "python",
   "nbconvert_exporter": "python",
   "pygments_lexer": "ipython3",
   "version": "3.10.12"
  }
 },
 "nbformat": 4,
 "nbformat_minor": 2
}
